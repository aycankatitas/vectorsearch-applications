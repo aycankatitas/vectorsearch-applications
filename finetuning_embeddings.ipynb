{
 "cells": [
  {
   "cell_type": "markdown",
   "metadata": {},
   "source": [
    "# Finetuning Embedding Models\n",
    "\n",
    "In this notebook, I finetune the embedding models to get better performance."
   ]
  },
  {
   "cell_type": "code",
   "execution_count": 18,
   "metadata": {},
   "outputs": [],
   "source": [
    "# libraries \n",
    "\n",
    "from typing import List, Tuple, Dict, Any\n",
    "import time\n",
    "import os\n",
    "\n",
    "# utilities\n",
    "from tqdm.notebook import tqdm\n",
    "from rich import print\n",
    "from dotenv import load_dotenv\n",
    "env = load_dotenv('./.env', override=True)\n",
    "\n",
    "# foreign libraries \n",
    "from llama_index.finetuning import EmbeddingQAFinetuneDataset\n",
    "from llama_index.finetuning import SentenceTransformersFinetuneEngine\n",
    "from weaviate_interface import WeaviateClient\n"
   ]
  },
  {
   "cell_type": "markdown",
   "metadata": {},
   "source": [
    "### Import Training-Validation Datasets"
   ]
  },
  {
   "cell_type": "code",
   "execution_count": 19,
   "metadata": {},
   "outputs": [],
   "source": [
    "training_path = './data/training_data_300.json'\n",
    "valid_path = './data/validation_data_100.json'"
   ]
  },
  {
   "cell_type": "code",
   "execution_count": 20,
   "metadata": {},
   "outputs": [
    {
     "data": {
      "text/html": [
       "<pre style=\"white-space:pre;overflow-x:auto;line-height:normal;font-family:Menlo,'DejaVu Sans Mono',consolas,'Courier New',monospace\"># Training Samples: <span style=\"color: #008080; text-decoration-color: #008080; font-weight: bold\">300</span>\n",
       "# Validation Samples: <span style=\"color: #008080; text-decoration-color: #008080; font-weight: bold\">100</span>\n",
       "</pre>\n"
      ],
      "text/plain": [
       "# Training Samples: \u001b[1;36m300\u001b[0m\n",
       "# Validation Samples: \u001b[1;36m100\u001b[0m\n"
      ]
     },
     "metadata": {},
     "output_type": "display_data"
    }
   ],
   "source": [
    "training_set = EmbeddingQAFinetuneDataset.from_json(training_path)\n",
    "valid_set = EmbeddingQAFinetuneDataset.from_json(valid_path)\n",
    "num_training_examples = len(training_set.queries)\n",
    "num_valid_examples = len(valid_set.queries)\n",
    "print(f'# Training Samples: {num_training_examples}\\n# Validation Samples: {num_valid_examples}')"
   ]
  },
  {
   "cell_type": "markdown",
   "metadata": {},
   "source": [
    "### Instantiate a Weaviate Client\n",
    "\n",
    "This step is only needed because Chris coded sentence-transformers/miniLM6 model in the Weaviate Cleint, so we can import its name directly from the attributes."
   ]
  },
  {
   "cell_type": "code",
   "execution_count": 21,
   "metadata": {},
   "outputs": [
    {
     "data": {
      "text/plain": [
       "(True, True)"
      ]
     },
     "execution_count": 21,
     "metadata": {},
     "output_type": "execute_result"
    }
   ],
   "source": [
    "#read env vars from local .env file\n",
    "api_key = os.environ['WEAVIATE_API_KEY']\n",
    "url = os.environ['WEAVIATE_ENDPOINT']\n",
    "\n",
    "#instantiate client\n",
    "client = WeaviateClient(api_key, url)\n",
    "\n",
    "#check if WCS instance is live and ready\n",
    "client.is_live(), client.is_ready()"
   ]
  },
  {
   "cell_type": "markdown",
   "metadata": {},
   "source": [
    "### Wrangle Model Output Data"
   ]
  },
  {
   "cell_type": "code",
   "execution_count": 22,
   "metadata": {},
   "outputs": [
    {
     "data": {
      "text/plain": [
       "'sentence-transformers/multi-qa-distilbert-cos-v1'"
      ]
     },
     "execution_count": 22,
     "metadata": {},
     "output_type": "execute_result"
    }
   ],
   "source": [
    "model_id = \"sentence-transformers/multi-qa-distilbert-cos-v1\"\n",
    "model_id"
   ]
  },
  {
   "cell_type": "code",
   "execution_count": 23,
   "metadata": {},
   "outputs": [
    {
     "data": {
      "text/html": [
       "<pre style=\"white-space:pre;overflow-x:auto;line-height:normal;font-family:Menlo,'DejaVu Sans Mono',consolas,'Courier New',monospace\">.<span style=\"color: #800080; text-decoration-color: #800080\">/</span><span style=\"color: #ff00ff; text-decoration-color: #ff00ff\">models</span> already exists\n",
       "</pre>\n"
      ],
      "text/plain": [
       ".\u001b[35m/\u001b[0m\u001b[95mmodels\u001b[0m already exists\n"
      ]
     },
     "metadata": {},
     "output_type": "display_data"
    },
    {
     "data": {
      "text/html": [
       "<pre style=\"white-space:pre;overflow-x:auto;line-height:normal;font-family:Menlo,'DejaVu Sans Mono',consolas,'Courier New',monospace\">Model ID: sentence-transformers/multi-qa-distilbert-cos-v1\n",
       "</pre>\n"
      ],
      "text/plain": [
       "Model ID: sentence-transformers/multi-qa-distilbert-cos-v1\n"
      ]
     },
     "metadata": {},
     "output_type": "display_data"
    },
    {
     "data": {
      "text/html": [
       "<pre style=\"white-space:pre;overflow-x:auto;line-height:normal;font-family:Menlo,'DejaVu Sans Mono',consolas,'Courier New',monospace\">Model Outpath: .<span style=\"color: #800080; text-decoration-color: #800080\">/models/</span><span style=\"color: #ff00ff; text-decoration-color: #ff00ff\">finetuned-multi-qa-distilbert-cos-v1-300</span>\n",
       "</pre>\n"
      ],
      "text/plain": [
       "Model Outpath: .\u001b[35m/models/\u001b[0m\u001b[95mfinetuned-multi-qa-distilbert-cos-v1-300\u001b[0m\n"
      ]
     },
     "metadata": {},
     "output_type": "display_data"
    }
   ],
   "source": [
    "#always a good idea to name your fine-tuned so that you can easily identify it,\n",
    "#especially if you plan on doing multiple training runs with different params\n",
    "#also probably a good idea to include the # of training samples you are using in the name\n",
    "\n",
    "# Currenly fine-tuning the standard model coded into the Weaviate client which is minilm-l6-v2\n",
    "\n",
    "#model_id = client.model_name_or_path\n",
    "model_ext = model_id.split('/')[1]\n",
    "models_dir = './models'\n",
    "if not os.path.exists('./models'):\n",
    "    os.makedirs('./models') \n",
    "else:\n",
    "    print(f'{models_dir} already exists')\n",
    "ft_model_name = f'finetuned-{model_ext}-{num_training_examples}'\n",
    "model_outpath = os.path.join(models_dir, ft_model_name)\n",
    "\n",
    "print(f'Model ID: {model_id}')\n",
    "print(f'Model Outpath: {model_outpath}')"
   ]
  },
  {
   "cell_type": "markdown",
   "metadata": {},
   "source": [
    "### Calling on the specific Transformers library finetuning engine\n",
    "\n",
    "This part will change depending on which embedding model you would like to finetune."
   ]
  },
  {
   "cell_type": "code",
   "execution_count": null,
   "metadata": {},
   "outputs": [],
   "source": [
    "# Instantiate a finetuning engine\n",
    "finetune_engine = SentenceTransformersFinetuneEngine(\n",
    "    training_set,\n",
    "    batch_size=32,\n",
    "    model_id=model_id,\n",
    "    model_output_path=model_outpath,\n",
    "    val_dataset=valid_set,\n",
    "    epochs=10\n",
    ")"
   ]
  },
  {
   "cell_type": "code",
   "execution_count": 25,
   "metadata": {},
   "outputs": [
    {
     "data": {
      "application/vnd.jupyter.widget-view+json": {
       "model_id": "f2d4335fcc25417c9b24dcf21713f1a0",
       "version_major": 2,
       "version_minor": 0
      },
      "text/plain": [
       "Epoch:   0%|          | 0/10 [00:00<?, ?it/s]"
      ]
     },
     "metadata": {},
     "output_type": "display_data"
    },
    {
     "data": {
      "application/vnd.jupyter.widget-view+json": {
       "model_id": "51a763c63a364ca8b524d77a54f56a47",
       "version_major": 2,
       "version_minor": 0
      },
      "text/plain": [
       "Iteration:   0%|          | 0/10 [00:00<?, ?it/s]"
      ]
     },
     "metadata": {},
     "output_type": "display_data"
    },
    {
     "data": {
      "application/vnd.jupyter.widget-view+json": {
       "model_id": "569cf6d9c9094a758867035e459f25d9",
       "version_major": 2,
       "version_minor": 0
      },
      "text/plain": [
       "Iteration:   0%|          | 0/10 [00:00<?, ?it/s]"
      ]
     },
     "metadata": {},
     "output_type": "display_data"
    },
    {
     "data": {
      "application/vnd.jupyter.widget-view+json": {
       "model_id": "a098ee273b09404080c81d8d5724fca9",
       "version_major": 2,
       "version_minor": 0
      },
      "text/plain": [
       "Iteration:   0%|          | 0/10 [00:00<?, ?it/s]"
      ]
     },
     "metadata": {},
     "output_type": "display_data"
    },
    {
     "data": {
      "application/vnd.jupyter.widget-view+json": {
       "model_id": "3c57fd34369241ec8c120fa388e73128",
       "version_major": 2,
       "version_minor": 0
      },
      "text/plain": [
       "Iteration:   0%|          | 0/10 [00:00<?, ?it/s]"
      ]
     },
     "metadata": {},
     "output_type": "display_data"
    },
    {
     "data": {
      "application/vnd.jupyter.widget-view+json": {
       "model_id": "d9a5b7344fe34fedb2f3d1ba7de7fa13",
       "version_major": 2,
       "version_minor": 0
      },
      "text/plain": [
       "Iteration:   0%|          | 0/10 [00:00<?, ?it/s]"
      ]
     },
     "metadata": {},
     "output_type": "display_data"
    },
    {
     "data": {
      "application/vnd.jupyter.widget-view+json": {
       "model_id": "dde1149b4836485d87550d53bfd4acd3",
       "version_major": 2,
       "version_minor": 0
      },
      "text/plain": [
       "Iteration:   0%|          | 0/10 [00:00<?, ?it/s]"
      ]
     },
     "metadata": {},
     "output_type": "display_data"
    },
    {
     "data": {
      "application/vnd.jupyter.widget-view+json": {
       "model_id": "9654a85e30a34bbda7a420a791e97dc4",
       "version_major": 2,
       "version_minor": 0
      },
      "text/plain": [
       "Iteration:   0%|          | 0/10 [00:00<?, ?it/s]"
      ]
     },
     "metadata": {},
     "output_type": "display_data"
    },
    {
     "data": {
      "application/vnd.jupyter.widget-view+json": {
       "model_id": "5bc7a7700dd640f49b44fd7023d7a817",
       "version_major": 2,
       "version_minor": 0
      },
      "text/plain": [
       "Iteration:   0%|          | 0/10 [00:00<?, ?it/s]"
      ]
     },
     "metadata": {},
     "output_type": "display_data"
    },
    {
     "data": {
      "application/vnd.jupyter.widget-view+json": {
       "model_id": "a391835d950744caaa77273a94f2b7cb",
       "version_major": 2,
       "version_minor": 0
      },
      "text/plain": [
       "Iteration:   0%|          | 0/10 [00:00<?, ?it/s]"
      ]
     },
     "metadata": {},
     "output_type": "display_data"
    },
    {
     "data": {
      "application/vnd.jupyter.widget-view+json": {
       "model_id": "eeecc1eeccad46849abf14ef37a168a8",
       "version_major": 2,
       "version_minor": 0
      },
      "text/plain": [
       "Iteration:   0%|          | 0/10 [00:00<?, ?it/s]"
      ]
     },
     "metadata": {},
     "output_type": "display_data"
    }
   ],
   "source": [
    "finetune_engine.finetune()"
   ]
  },
  {
   "cell_type": "markdown",
   "metadata": {},
   "source": []
  }
 ],
 "metadata": {
  "kernelspec": {
   "display_name": "impactenv",
   "language": "python",
   "name": "python3"
  },
  "language_info": {
   "codemirror_mode": {
    "name": "ipython",
    "version": 3
   },
   "file_extension": ".py",
   "mimetype": "text/x-python",
   "name": "python",
   "nbconvert_exporter": "python",
   "pygments_lexer": "ipython3",
   "version": "3.10.13"
  }
 },
 "nbformat": 4,
 "nbformat_minor": 2
}
