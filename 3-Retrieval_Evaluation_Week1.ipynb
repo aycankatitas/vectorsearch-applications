{
 "cells": [
  {
   "cell_type": "markdown",
   "id": "7d49f27a-15ba-4176-bf6d-211051a8cef6",
   "metadata": {},
   "source": [
    "#### Week 1: Vector Search Applications w/ LLMs.  Authored by Chris Sanchez."
   ]
  },
  {
   "attachments": {},
   "cell_type": "markdown",
   "id": "b8a48d4e-11e4-45b5-8cfc-f595d61e11bd",
   "metadata": {},
   "source": [
    "# Week 1 - Notebook 3\n",
    "\n",
    "# Overview\n",
    "***\n",
    "Welcome to the final notebook for Week 1! Take a look at all the ground we've covered so far:\n",
    "- Chunking/splitting\n",
    "- Vectorization of text\n",
    "- Combining with metadata\n",
    "- Saving to disk\n",
    "- Class Configuration\n",
    "- Data Indexing\n",
    "- Keyword search\n",
    "- Vector search\n",
    "- OPTIONAL: Searching with Filters\n",
    "\n",
    "We are now prepared to move on to a very important topic, **Retrieval Evaluation**.  I hope you've noticed that the search results will differ (sometimes slightly, sometimes by a lot) depeding on which search method you used: `keyword_search` or `vector_search`.  As humans, it's fairly easy for us to determine whether the returned search results are relevant to the query that was submitted, (though even here there will be differing opinions on result relevance).  But how do we systematically determine which search method is better in general?  And how do we measure the relative performance of our retrieval system if we change one of it's parameters...for example, changing our embedding model? What about measuring system performance over time as more documents are added to our datastore?\n",
    "\n",
    "We need a way to evaluate our retrieval system, and this notebook will show you \"one way\" of doing that.  I say \"one way\" because there are many ways to approach this problem, and the method I'm showing you is not perfect (if anything it's a bit too conservative).  Ultimately, measuring retrieval performance is hard because it requires a lot of time and effort, and absent any user [click-data](https://en.wikipedia.org/wiki/Click_tracking), requires some form of data labeling.  With the advent of powerful generative LLMs the process of measuring retrieval performance has become much easier. Let's take a look at how that works.\n",
    "\n",
    "# Retrieval Evaluation - Process\n",
    "***\n",
    "Here's a high-level overview of how the Retrieval Evaluation process in this notebook works:\n",
    "\n",
    "1. Generate a \"golden dataset\" of query-context pairs.  I used a pseudo-LlamaIndex implementation for this step.  I say \"pseudo\" implementation because I used LlamaIndex as the backbone, but I had to rewrite significant portions of the dataset generation code because of the opinionated way that LlamaIndex is built. 100 document chunks (contexts) were randomly selected from the Impact Theory corpus and those chunks were then submitted to the `gpt-3.5-turbo` model which generated a query that could be answered by the context.  The output was 100 query-context pairs along with associated doc_ids. \n",
    "   - **Assumptions**:\n",
    "     - The generated query-context pairs are, in fact, relevant to one another i.e. the query can be answered by the context that it's paired with\n",
    "     - The generated queries are simliar in style and length to the type of queries that end users would ask\n",
    "2. The golden dataset consists of three primary keys: `corpus`, `relevant_docs`, and `queries`\n",
    "     - The `corpus` is the original text context/chunk with it's associated `doc_id`\n",
    "     - The `queries` are the LLM generated queries, one (or more) for each entry in the `corpus`\n",
    "     - The `relevant_docs` is a simple lookup table linking the `corpus` docs to the generated `queries`\n",
    "3. We pass the golden dataset into a retrieval evluation function which does the following:\n",
    "   - Takes in a `retriever` arg (`WeaviateClient`) and a few other configuration params\n",
    "   - Iterates over all queries in the golden dataset and retrieves search results for each query from Weaviate datastore\n",
    "   - Extracts all `doc_id` values from the retrieved results\n",
    "   - Extracts the `doc_id` from the associated `relevant_docs` for each query\n",
    "   - Checks if the relevant doc_id is in the list of retrieved result doc_ids\n",
    "   - After all queries are completed a `hit_rate` score and `mrr` score are calculated for the entire golden dataset\n",
    "   - Writes results to an `eval_results` folder\n",
    "\n",
    "#### In a Nutshell\n",
    "Ulitmately, given a golden dataset consisting of queries, relevant docs, and their associated doc_ids, the `retrieval_evaluation` function is checking if the relevant doc_id is found in the list of retrieved results doc_ids, for each query.\n",
    "\n",
    "#### Problems with this Approach\n",
    "The problems with this approach are many, I'll cover a few here:\n",
    "- The **Assumptions** (see section 1 above) about the golden dataset must hold true.  Given that the pairs are generated by `gpt-3.5-turbo`, I think the first assumption will generally be true.  When reviewing the dataset I did find a few questions that were not answerable given the context, but for the most part they were.  The 2nd assumption though, is going to be dependent on your particular search use case.  I think for the purposes of this course, the questions generated are a decent reflection of how someone would query this dataset, and therefore do the job of measuring retriever performance.  But I would always check a real-world query distribution before using an approach like the one presented here.\n",
    "- This approach is conversative in that there is only \"one\" right answer.  Either the relevant `doc_id` is in the results list or it isn't.  In reality, there are going to be several documents that could potentially answer the generated query, but we have no way to account for these other relevant documents, unless of course, we want to manually add doc_ids to the golden dataset (and depending on your business case, you may actually want to do that).\n",
    "- We aren't measuring recall or precision because we aren't classifying other documents as \"negatives\".  As was just mentioned, the other documents in the results list may or may not be good matches, we just don't know.  Because we don't know, we can't really classify the other documents as \"negatives\".  So for this approach, we are measuring the [\"hit rate\"](https://uplimit.com/course/vector-search-apps/admin2/content/session_cln9hzpkl00721aah4hbz06fc/module/module_clo3hmyh0006p12cb3bmygky4) which is simply a count of the number of times that we found a relevant `doc_id` match in the results list and [Mean Reciprocal Rank (MRR)](https://uplimit.com/course/vector-search-apps/admin2/content/session_cln9hzpkl00721aah4hbz06fc/module/module_clo3hmyh0006p12cb3bmygky4).  We're using MRR over other metrics such as Mean Average Precision (MAP) because we are only looking at a [single relevant answer](https://stats.stackexchange.com/questions/127041/mean-average-precision-vs-mean-reciprocal-rank).  Hit rate is a good enough metric for determining if our retriever is retrieving quality results, and MRR will become more important later on when we add a Reranker to the mix.  "
   ]
  },
  {
   "cell_type": "code",
   "execution_count": 2,
   "id": "aa6a6f95-91c6-4a08-a3a0-2aafc2d56b77",
   "metadata": {},
   "outputs": [],
   "source": [
    "#standard library imports\n",
    "from typing import List, Tuple, Dict, Any\n",
    "import time\n",
    "import os\n",
    "\n",
    "# utilities\n",
    "from tqdm.notebook import tqdm\n",
    "from rich import print\n",
    "from dotenv import load_dotenv\n",
    "env = load_dotenv('./.env', override=True)"
   ]
  },
  {
   "cell_type": "markdown",
   "id": "5e4522b4-5248-4936-af87-b0a2220bdb6d",
   "metadata": {},
   "source": [
    "# Assignment 1.3\n",
    "***\n",
    "#### Instructions:\n",
    "* Import the `golden_100.json` dataset using the `from_json` method of the LlamaIndex `EmbeddingQAFinetuneDataset` Class\n",
    "  - **side note: The `EmbeddingQAFinetuneDataset` Class is the same class used for creating fine-tuning datasets\n",
    "* Instantiate a new Weaviate Client (Retriever) and set the `class_name` of the Class that you created in Notebook 2\n",
    "* Evaluate your retriever results using the `retrieval_evaluation` function\n",
    "* Submit your results in the form of a text file to Uplimit (the function autogenerates a report in the `dir_outpath` directory)."
   ]
  },
  {
   "cell_type": "code",
   "execution_count": 2,
   "id": "7b850e13",
   "metadata": {},
   "outputs": [
    {
     "ename": "ImportError",
     "evalue": "cannot import name 'create_branch' from 'huggingface_hub' (/Users/aycankatitas/opt/anaconda3/envs/vectorsearch/lib/python3.12/site-packages/huggingface_hub/__init__.py)",
     "output_type": "error",
     "traceback": [
      "\u001b[0;31m---------------------------------------------------------------------------\u001b[0m",
      "\u001b[0;31mImportError\u001b[0m                               Traceback (most recent call last)",
      "Cell \u001b[0;32mIn[2], line 1\u001b[0m\n\u001b[0;32m----> 1\u001b[0m \u001b[38;5;28;01mfrom\u001b[39;00m \u001b[38;5;21;01mretrieval_evaluation\u001b[39;00m \u001b[38;5;28;01mimport\u001b[39;00m calc_hit_rate_scores, calc_mrr_scores, record_results, add_params\n\u001b[1;32m      2\u001b[0m \u001b[38;5;28;01mfrom\u001b[39;00m \u001b[38;5;21;01mllama_index\u001b[39;00m\u001b[38;5;21;01m.\u001b[39;00m\u001b[38;5;21;01mfinetuning\u001b[39;00m \u001b[38;5;28;01mimport\u001b[39;00m EmbeddingQAFinetuneDataset\n\u001b[1;32m      3\u001b[0m \u001b[38;5;28;01mfrom\u001b[39;00m \u001b[38;5;21;01mweaviate_interface\u001b[39;00m \u001b[38;5;28;01mimport\u001b[39;00m WeaviateClient\n",
      "File \u001b[0;32m~/Desktop/Git/vectorsearch-applications/retrieval_evaluation.py:3\u001b[0m\n\u001b[1;32m      1\u001b[0m \u001b[38;5;66;03m#external files\u001b[39;00m\n\u001b[1;32m      2\u001b[0m \u001b[38;5;28;01mfrom\u001b[39;00m \u001b[38;5;21;01mopenai_interface\u001b[39;00m \u001b[38;5;28;01mimport\u001b[39;00m GPT_Turbo\n\u001b[0;32m----> 3\u001b[0m \u001b[38;5;28;01mfrom\u001b[39;00m \u001b[38;5;21;01mweaviate_interface\u001b[39;00m \u001b[38;5;28;01mimport\u001b[39;00m WeaviateClient\n\u001b[1;32m      4\u001b[0m \u001b[38;5;28;01mfrom\u001b[39;00m \u001b[38;5;21;01mllama_index\u001b[39;00m\u001b[38;5;21;01m.\u001b[39;00m\u001b[38;5;21;01mfinetuning\u001b[39;00m \u001b[38;5;28;01mimport\u001b[39;00m EmbeddingQAFinetuneDataset\n\u001b[1;32m      5\u001b[0m \u001b[38;5;28;01mfrom\u001b[39;00m \u001b[38;5;21;01mprompt_templates\u001b[39;00m \u001b[38;5;28;01mimport\u001b[39;00m qa_generation_prompt\n",
      "File \u001b[0;32m~/Desktop/Git/vectorsearch-applications/weaviate_interface.py:4\u001b[0m\n\u001b[1;32m      2\u001b[0m \u001b[38;5;28;01mfrom\u001b[39;00m \u001b[38;5;21;01mdataclasses\u001b[39;00m \u001b[38;5;28;01mimport\u001b[39;00m dataclass\n\u001b[1;32m      3\u001b[0m \u001b[38;5;28;01mfrom\u001b[39;00m \u001b[38;5;21;01mopenai\u001b[39;00m \u001b[38;5;28;01mimport\u001b[39;00m OpenAI\n\u001b[0;32m----> 4\u001b[0m \u001b[38;5;28;01mfrom\u001b[39;00m \u001b[38;5;21;01msentence_transformers\u001b[39;00m \u001b[38;5;28;01mimport\u001b[39;00m SentenceTransformer\n\u001b[1;32m      5\u001b[0m \u001b[38;5;28;01mfrom\u001b[39;00m \u001b[38;5;21;01mtyping\u001b[39;00m \u001b[38;5;28;01mimport\u001b[39;00m List, Union, Callable\n\u001b[1;32m      6\u001b[0m \u001b[38;5;28;01mfrom\u001b[39;00m \u001b[38;5;21;01mtorch\u001b[39;00m \u001b[38;5;28;01mimport\u001b[39;00m cuda\n",
      "File \u001b[0;32m~/opt/anaconda3/envs/vectorsearch/lib/python3.12/site-packages/sentence_transformers/__init__.py:3\u001b[0m\n\u001b[1;32m      1\u001b[0m __version__ \u001b[38;5;241m=\u001b[39m \u001b[38;5;124m\"\u001b[39m\u001b[38;5;124m2.0.0\u001b[39m\u001b[38;5;124m\"\u001b[39m\n\u001b[1;32m      2\u001b[0m __MODEL_HUB_ORGANIZATION__ \u001b[38;5;241m=\u001b[39m \u001b[38;5;124m'\u001b[39m\u001b[38;5;124msentence-transformers\u001b[39m\u001b[38;5;124m'\u001b[39m\n\u001b[0;32m----> 3\u001b[0m \u001b[38;5;28;01mfrom\u001b[39;00m \u001b[38;5;21;01m.\u001b[39;00m\u001b[38;5;21;01mdatasets\u001b[39;00m \u001b[38;5;28;01mimport\u001b[39;00m SentencesDataset, ParallelSentencesDataset\n\u001b[1;32m      4\u001b[0m \u001b[38;5;28;01mfrom\u001b[39;00m \u001b[38;5;21;01m.\u001b[39;00m\u001b[38;5;21;01mLoggingHandler\u001b[39;00m \u001b[38;5;28;01mimport\u001b[39;00m LoggingHandler\n\u001b[1;32m      5\u001b[0m \u001b[38;5;28;01mfrom\u001b[39;00m \u001b[38;5;21;01m.\u001b[39;00m\u001b[38;5;21;01mSentenceTransformer\u001b[39;00m \u001b[38;5;28;01mimport\u001b[39;00m SentenceTransformer\n",
      "File \u001b[0;32m~/opt/anaconda3/envs/vectorsearch/lib/python3.12/site-packages/sentence_transformers/datasets/__init__.py:3\u001b[0m\n\u001b[1;32m      1\u001b[0m \u001b[38;5;28;01mfrom\u001b[39;00m \u001b[38;5;21;01m.\u001b[39;00m\u001b[38;5;21;01mDenoisingAutoEncoderDataset\u001b[39;00m \u001b[38;5;28;01mimport\u001b[39;00m DenoisingAutoEncoderDataset\n\u001b[1;32m      2\u001b[0m \u001b[38;5;28;01mfrom\u001b[39;00m \u001b[38;5;21;01m.\u001b[39;00m\u001b[38;5;21;01mNoDuplicatesDataLoader\u001b[39;00m \u001b[38;5;28;01mimport\u001b[39;00m NoDuplicatesDataLoader\n\u001b[0;32m----> 3\u001b[0m \u001b[38;5;28;01mfrom\u001b[39;00m \u001b[38;5;21;01m.\u001b[39;00m\u001b[38;5;21;01mParallelSentencesDataset\u001b[39;00m \u001b[38;5;28;01mimport\u001b[39;00m ParallelSentencesDataset\n\u001b[1;32m      4\u001b[0m \u001b[38;5;28;01mfrom\u001b[39;00m \u001b[38;5;21;01m.\u001b[39;00m\u001b[38;5;21;01mSentencesDataset\u001b[39;00m \u001b[38;5;28;01mimport\u001b[39;00m SentencesDataset\n\u001b[1;32m      5\u001b[0m \u001b[38;5;28;01mfrom\u001b[39;00m \u001b[38;5;21;01m.\u001b[39;00m\u001b[38;5;21;01mSentenceLabelDataset\u001b[39;00m \u001b[38;5;28;01mimport\u001b[39;00m SentenceLabelDataset\n",
      "File \u001b[0;32m~/opt/anaconda3/envs/vectorsearch/lib/python3.12/site-packages/sentence_transformers/datasets/ParallelSentencesDataset.py:4\u001b[0m\n\u001b[1;32m      2\u001b[0m \u001b[38;5;28;01mimport\u001b[39;00m \u001b[38;5;21;01mlogging\u001b[39;00m\n\u001b[1;32m      3\u001b[0m \u001b[38;5;28;01mimport\u001b[39;00m \u001b[38;5;21;01mgzip\u001b[39;00m\n\u001b[0;32m----> 4\u001b[0m \u001b[38;5;28;01mfrom\u001b[39;00m \u001b[38;5;21;01m.\u001b[39;00m\u001b[38;5;21;01m.\u001b[39;00m \u001b[38;5;28;01mimport\u001b[39;00m SentenceTransformer\n\u001b[1;32m      5\u001b[0m \u001b[38;5;28;01mfrom\u001b[39;00m \u001b[38;5;21;01m.\u001b[39;00m\u001b[38;5;21;01m.\u001b[39;00m\u001b[38;5;21;01mreaders\u001b[39;00m \u001b[38;5;28;01mimport\u001b[39;00m InputExample\n\u001b[1;32m      6\u001b[0m \u001b[38;5;28;01mfrom\u001b[39;00m \u001b[38;5;21;01mtyping\u001b[39;00m \u001b[38;5;28;01mimport\u001b[39;00m List\n",
      "File \u001b[0;32m~/opt/anaconda3/envs/vectorsearch/lib/python3.12/site-packages/sentence_transformers/SentenceTransformer.py:11\u001b[0m\n\u001b[1;32m      9\u001b[0m \u001b[38;5;28;01mimport\u001b[39;00m \u001b[38;5;21;01mnumpy\u001b[39;00m \u001b[38;5;28;01mas\u001b[39;00m \u001b[38;5;21;01mnp\u001b[39;00m\n\u001b[1;32m     10\u001b[0m \u001b[38;5;28;01mfrom\u001b[39;00m \u001b[38;5;21;01mnumpy\u001b[39;00m \u001b[38;5;28;01mimport\u001b[39;00m ndarray\n\u001b[0;32m---> 11\u001b[0m \u001b[38;5;28;01mimport\u001b[39;00m \u001b[38;5;21;01mtransformers\u001b[39;00m\n\u001b[1;32m     12\u001b[0m \u001b[38;5;28;01mfrom\u001b[39;00m \u001b[38;5;21;01mhuggingface_hub\u001b[39;00m \u001b[38;5;28;01mimport\u001b[39;00m HfApi, HfFolder, Repository, hf_hub_url, cached_download\n\u001b[1;32m     13\u001b[0m \u001b[38;5;28;01mimport\u001b[39;00m \u001b[38;5;21;01mtorch\u001b[39;00m\n",
      "File \u001b[0;32m~/opt/anaconda3/envs/vectorsearch/lib/python3.12/site-packages/transformers/__init__.py:26\u001b[0m\n\u001b[1;32m     23\u001b[0m \u001b[38;5;28;01mfrom\u001b[39;00m \u001b[38;5;21;01mtyping\u001b[39;00m \u001b[38;5;28;01mimport\u001b[39;00m TYPE_CHECKING\n\u001b[1;32m     25\u001b[0m \u001b[38;5;66;03m# Check the dependencies satisfy the minimal versions required.\u001b[39;00m\n\u001b[0;32m---> 26\u001b[0m \u001b[38;5;28;01mfrom\u001b[39;00m \u001b[38;5;21;01m.\u001b[39;00m \u001b[38;5;28;01mimport\u001b[39;00m dependency_versions_check\n\u001b[1;32m     27\u001b[0m \u001b[38;5;28;01mfrom\u001b[39;00m \u001b[38;5;21;01m.\u001b[39;00m\u001b[38;5;21;01mutils\u001b[39;00m \u001b[38;5;28;01mimport\u001b[39;00m (\n\u001b[1;32m     28\u001b[0m     OptionalDependencyNotAvailable,\n\u001b[1;32m     29\u001b[0m     _LazyModule,\n\u001b[0;32m   (...)\u001b[0m\n\u001b[1;32m     46\u001b[0m     logging,\n\u001b[1;32m     47\u001b[0m )\n\u001b[1;32m     50\u001b[0m logger \u001b[38;5;241m=\u001b[39m logging\u001b[38;5;241m.\u001b[39mget_logger(\u001b[38;5;18m__name__\u001b[39m)  \u001b[38;5;66;03m# pylint: disable=invalid-name\u001b[39;00m\n",
      "File \u001b[0;32m~/opt/anaconda3/envs/vectorsearch/lib/python3.12/site-packages/transformers/dependency_versions_check.py:16\u001b[0m\n\u001b[1;32m      1\u001b[0m \u001b[38;5;66;03m# Copyright 2020 The HuggingFace Team. All rights reserved.\u001b[39;00m\n\u001b[1;32m      2\u001b[0m \u001b[38;5;66;03m#\u001b[39;00m\n\u001b[1;32m      3\u001b[0m \u001b[38;5;66;03m# Licensed under the Apache License, Version 2.0 (the \"License\");\u001b[39;00m\n\u001b[0;32m   (...)\u001b[0m\n\u001b[1;32m     12\u001b[0m \u001b[38;5;66;03m# See the License for the specific language governing permissions and\u001b[39;00m\n\u001b[1;32m     13\u001b[0m \u001b[38;5;66;03m# limitations under the License.\u001b[39;00m\n\u001b[1;32m     15\u001b[0m \u001b[38;5;28;01mfrom\u001b[39;00m \u001b[38;5;21;01m.\u001b[39;00m\u001b[38;5;21;01mdependency_versions_table\u001b[39;00m \u001b[38;5;28;01mimport\u001b[39;00m deps\n\u001b[0;32m---> 16\u001b[0m \u001b[38;5;28;01mfrom\u001b[39;00m \u001b[38;5;21;01m.\u001b[39;00m\u001b[38;5;21;01mutils\u001b[39;00m\u001b[38;5;21;01m.\u001b[39;00m\u001b[38;5;21;01mversions\u001b[39;00m \u001b[38;5;28;01mimport\u001b[39;00m require_version, require_version_core\n\u001b[1;32m     19\u001b[0m \u001b[38;5;66;03m# define which module versions we always want to check at run time\u001b[39;00m\n\u001b[1;32m     20\u001b[0m \u001b[38;5;66;03m# (usually the ones defined in `install_requires` in setup.py)\u001b[39;00m\n\u001b[1;32m     21\u001b[0m \u001b[38;5;66;03m#\u001b[39;00m\n\u001b[1;32m     22\u001b[0m \u001b[38;5;66;03m# order specific notes:\u001b[39;00m\n\u001b[1;32m     23\u001b[0m \u001b[38;5;66;03m# - tqdm must be checked before tokenizers\u001b[39;00m\n\u001b[1;32m     25\u001b[0m pkgs_to_check_at_runtime \u001b[38;5;241m=\u001b[39m [\n\u001b[1;32m     26\u001b[0m     \u001b[38;5;124m\"\u001b[39m\u001b[38;5;124mpython\u001b[39m\u001b[38;5;124m\"\u001b[39m,\n\u001b[1;32m     27\u001b[0m     \u001b[38;5;124m\"\u001b[39m\u001b[38;5;124mtqdm\u001b[39m\u001b[38;5;124m\"\u001b[39m,\n\u001b[0;32m   (...)\u001b[0m\n\u001b[1;32m     37\u001b[0m     \u001b[38;5;124m\"\u001b[39m\u001b[38;5;124mpyyaml\u001b[39m\u001b[38;5;124m\"\u001b[39m,\n\u001b[1;32m     38\u001b[0m ]\n",
      "File \u001b[0;32m~/opt/anaconda3/envs/vectorsearch/lib/python3.12/site-packages/transformers/utils/__init__.py:61\u001b[0m\n\u001b[1;32m     23\u001b[0m \u001b[38;5;28;01mfrom\u001b[39;00m \u001b[38;5;21;01m.\u001b[39;00m\u001b[38;5;21;01mdoc\u001b[39;00m \u001b[38;5;28;01mimport\u001b[39;00m (\n\u001b[1;32m     24\u001b[0m     add_code_sample_docstrings,\n\u001b[1;32m     25\u001b[0m     add_end_docstrings,\n\u001b[0;32m   (...)\u001b[0m\n\u001b[1;32m     29\u001b[0m     replace_return_docstrings,\n\u001b[1;32m     30\u001b[0m )\n\u001b[1;32m     31\u001b[0m \u001b[38;5;28;01mfrom\u001b[39;00m \u001b[38;5;21;01m.\u001b[39;00m\u001b[38;5;21;01mgeneric\u001b[39;00m \u001b[38;5;28;01mimport\u001b[39;00m (\n\u001b[1;32m     32\u001b[0m     ContextManagers,\n\u001b[1;32m     33\u001b[0m     ExplicitEnum,\n\u001b[0;32m   (...)\u001b[0m\n\u001b[1;32m     59\u001b[0m     working_or_temp_dir,\n\u001b[1;32m     60\u001b[0m )\n\u001b[0;32m---> 61\u001b[0m \u001b[38;5;28;01mfrom\u001b[39;00m \u001b[38;5;21;01m.\u001b[39;00m\u001b[38;5;21;01mhub\u001b[39;00m \u001b[38;5;28;01mimport\u001b[39;00m (\n\u001b[1;32m     62\u001b[0m     CLOUDFRONT_DISTRIB_PREFIX,\n\u001b[1;32m     63\u001b[0m     DISABLE_TELEMETRY,\n\u001b[1;32m     64\u001b[0m     HF_MODULES_CACHE,\n\u001b[1;32m     65\u001b[0m     HUGGINGFACE_CO_PREFIX,\n\u001b[1;32m     66\u001b[0m     HUGGINGFACE_CO_RESOLVE_ENDPOINT,\n\u001b[1;32m     67\u001b[0m     PYTORCH_PRETRAINED_BERT_CACHE,\n\u001b[1;32m     68\u001b[0m     PYTORCH_TRANSFORMERS_CACHE,\n\u001b[1;32m     69\u001b[0m     S3_BUCKET_PREFIX,\n\u001b[1;32m     70\u001b[0m     TRANSFORMERS_CACHE,\n\u001b[1;32m     71\u001b[0m     TRANSFORMERS_DYNAMIC_MODULE_NAME,\n\u001b[1;32m     72\u001b[0m     EntryNotFoundError,\n\u001b[1;32m     73\u001b[0m     PushInProgress,\n\u001b[1;32m     74\u001b[0m     PushToHubMixin,\n\u001b[1;32m     75\u001b[0m     RepositoryNotFoundError,\n\u001b[1;32m     76\u001b[0m     RevisionNotFoundError,\n\u001b[1;32m     77\u001b[0m     cached_file,\n\u001b[1;32m     78\u001b[0m     default_cache_path,\n\u001b[1;32m     79\u001b[0m     define_sagemaker_information,\n\u001b[1;32m     80\u001b[0m     download_url,\n\u001b[1;32m     81\u001b[0m     extract_commit_hash,\n\u001b[1;32m     82\u001b[0m     get_cached_models,\n\u001b[1;32m     83\u001b[0m     get_file_from_repo,\n\u001b[1;32m     84\u001b[0m     has_file,\n\u001b[1;32m     85\u001b[0m     http_user_agent,\n\u001b[1;32m     86\u001b[0m     is_offline_mode,\n\u001b[1;32m     87\u001b[0m     is_remote_url,\n\u001b[1;32m     88\u001b[0m     move_cache,\n\u001b[1;32m     89\u001b[0m     send_example_telemetry,\n\u001b[1;32m     90\u001b[0m     try_to_load_from_cache,\n\u001b[1;32m     91\u001b[0m )\n\u001b[1;32m     92\u001b[0m \u001b[38;5;28;01mfrom\u001b[39;00m \u001b[38;5;21;01m.\u001b[39;00m\u001b[38;5;21;01mimport_utils\u001b[39;00m \u001b[38;5;28;01mimport\u001b[39;00m (\n\u001b[1;32m     93\u001b[0m     ENV_VARS_TRUE_AND_AUTO_VALUES,\n\u001b[1;32m     94\u001b[0m     ENV_VARS_TRUE_VALUES,\n\u001b[0;32m   (...)\u001b[0m\n\u001b[1;32m    195\u001b[0m     torch_required,\n\u001b[1;32m    196\u001b[0m )\n\u001b[1;32m    197\u001b[0m \u001b[38;5;28;01mfrom\u001b[39;00m \u001b[38;5;21;01m.\u001b[39;00m\u001b[38;5;21;01mpeft_utils\u001b[39;00m \u001b[38;5;28;01mimport\u001b[39;00m (\n\u001b[1;32m    198\u001b[0m     ADAPTER_CONFIG_NAME,\n\u001b[1;32m    199\u001b[0m     ADAPTER_SAFE_WEIGHTS_NAME,\n\u001b[0;32m   (...)\u001b[0m\n\u001b[1;32m    202\u001b[0m     find_adapter_config_file,\n\u001b[1;32m    203\u001b[0m )\n",
      "File \u001b[0;32m~/opt/anaconda3/envs/vectorsearch/lib/python3.12/site-packages/transformers/utils/hub.py:33\u001b[0m\n\u001b[1;32m     31\u001b[0m \u001b[38;5;28;01mimport\u001b[39;00m \u001b[38;5;21;01mhuggingface_hub\u001b[39;00m\n\u001b[1;32m     32\u001b[0m \u001b[38;5;28;01mimport\u001b[39;00m \u001b[38;5;21;01mrequests\u001b[39;00m\n\u001b[0;32m---> 33\u001b[0m \u001b[38;5;28;01mfrom\u001b[39;00m \u001b[38;5;21;01mhuggingface_hub\u001b[39;00m \u001b[38;5;28;01mimport\u001b[39;00m (\n\u001b[1;32m     34\u001b[0m     CommitOperationAdd,\n\u001b[1;32m     35\u001b[0m     create_branch,\n\u001b[1;32m     36\u001b[0m     create_commit,\n\u001b[1;32m     37\u001b[0m     create_repo,\n\u001b[1;32m     38\u001b[0m     get_hf_file_metadata,\n\u001b[1;32m     39\u001b[0m     hf_hub_download,\n\u001b[1;32m     40\u001b[0m     hf_hub_url,\n\u001b[1;32m     41\u001b[0m )\n\u001b[1;32m     42\u001b[0m \u001b[38;5;28;01mfrom\u001b[39;00m \u001b[38;5;21;01mhuggingface_hub\u001b[39;00m\u001b[38;5;21;01m.\u001b[39;00m\u001b[38;5;21;01mfile_download\u001b[39;00m \u001b[38;5;28;01mimport\u001b[39;00m REGEX_COMMIT_HASH, http_get\n\u001b[1;32m     43\u001b[0m \u001b[38;5;28;01mfrom\u001b[39;00m \u001b[38;5;21;01mhuggingface_hub\u001b[39;00m\u001b[38;5;21;01m.\u001b[39;00m\u001b[38;5;21;01mutils\u001b[39;00m \u001b[38;5;28;01mimport\u001b[39;00m (\n\u001b[1;32m     44\u001b[0m     EntryNotFoundError,\n\u001b[1;32m     45\u001b[0m     GatedRepoError,\n\u001b[0;32m   (...)\u001b[0m\n\u001b[1;32m     50\u001b[0m     hf_raise_for_status,\n\u001b[1;32m     51\u001b[0m )\n",
      "\u001b[0;31mImportError\u001b[0m: cannot import name 'create_branch' from 'huggingface_hub' (/Users/aycankatitas/opt/anaconda3/envs/vectorsearch/lib/python3.12/site-packages/huggingface_hub/__init__.py)"
     ]
    }
   ],
   "source": [
    "from retrieval_evaluation import calc_hit_rate_scores, calc_mrr_scores, record_results, add_params\n",
    "from llama_index.finetuning import EmbeddingQAFinetuneDataset\n",
    "from weaviate_interface import WeaviateClient"
   ]
  },
  {
   "cell_type": "code",
   "execution_count": 3,
   "id": "c9968b62-3814-40b9-bb2a-8c76968825c0",
   "metadata": {},
   "outputs": [
    {
     "name": "stderr",
     "output_type": "stream",
     "text": [
      "/Users/aycankatitas/opt/anaconda3/envs/vectorsearch/lib/python3.11/site-packages/llama_index/download/module.py:12: DeprecationWarning: pkg_resources is deprecated as an API. See https://setuptools.pypa.io/en/latest/pkg_resources.html\n",
      "  import pkg_resources\n"
     ]
    },
    {
     "data": {
      "text/html": [
       "<pre style=\"white-space:pre;overflow-x:auto;line-height:normal;font-family:Menlo,'DejaVu Sans Mono',consolas,'Courier New',monospace\">Num queries in Golden Dataset: <span style=\"color: #008080; text-decoration-color: #008080; font-weight: bold\">100</span>\n",
       "</pre>\n"
      ],
      "text/plain": [
       "Num queries in Golden Dataset: \u001b[1;36m100\u001b[0m\n"
      ]
     },
     "metadata": {},
     "output_type": "display_data"
    },
    {
     "data": {
      "text/plain": [
       "(True, True)"
      ]
     },
     "execution_count": 3,
     "metadata": {},
     "output_type": "execute_result"
    }
   ],
   "source": [
    "from retrieval_evaluation import calc_hit_rate_scores, calc_mrr_scores, record_results, add_params\n",
    "from llama_index.finetuning import EmbeddingQAFinetuneDataset\n",
    "from weaviate_interface import WeaviateClient\n",
    "\n",
    "#################\n",
    "##  START CODE ##\n",
    "#################\n",
    "\n",
    "# Load QA dataset\n",
    "golden_dataset = EmbeddingQAFinetuneDataset.from_json(\"data/golden_100.json\")\n",
    "\n",
    "\n",
    "\n",
    "# should see 100 queries\n",
    "print(f'Num queries in Golden Dataset: {len(golden_dataset.queries)}')\n",
    "\n",
    "### Instantiate Weaviate client and set Class name\n",
    "# read env vars from local .env file\n",
    "\n",
    "#read env vars from local .env file\n",
    "api_key = os.environ['WEAVIATE_API_KEY']\n",
    "url = os.environ['WEAVIATE_ENDPOINT']\n",
    "\n",
    "#instantiate client\n",
    "client = WeaviateClient(api_key, url)\n",
    "class_name = \"Impact_theory_minilm_256\"\n",
    "\n",
    "#check if WCS instance is live and ready\n",
    "client.is_live(), client.is_ready()\n",
    "\n",
    "\n",
    "#################\n",
    "##  END CODE   ##\n",
    "#################"
   ]
  },
  {
   "cell_type": "code",
   "execution_count": 4,
   "id": "e896fbee",
   "metadata": {},
   "outputs": [
    {
     "data": {
      "text/plain": [
       "{'2dcc3304-5cf4-4c10-99c2-8534b9164277': ['PeK9EeKNXDM_11'],\n",
       " 'd060fd2b-8c8f-493f-a449-fc4eeb1d5ad1': ['c7LMEdlQIfw_26'],\n",
       " 'ba046c64-aac0-4358-bb3d-cdd283fdbdfb': ['kLIE93v2X-E_28'],\n",
       " 'd260f966-e178-49e0-b257-01c9069a4128': ['H6aKwKfEk8k_133'],\n",
       " '60ac28e7-ace9-4ee6-a894-f293a9822265': ['02RJ83vS96s_23'],\n",
       " '97bfda23-582d-409a-8fa9-543009efe68f': ['jX5eajzLJMU_27'],\n",
       " '66098808-d758-4316-8b3c-9237eae2f764': ['H6aKwKfEk8k_85'],\n",
       " '51cc5c11-b182-4487-aed8-17b38658e066': ['cgU7abzvSQk_23'],\n",
       " 'd56d1715-0687-4fd3-8cbc-6caf5ad294b3': ['nVLv3JsdBAk_106'],\n",
       " '6160d6c6-056d-442a-8333-595666e7da3c': ['C6U8-736aGM_19'],\n",
       " '409f451e-41a0-48f4-b95a-c5a43fdecb1b': ['Ie8EwRjAfk4_10'],\n",
       " 'c0b5b5f6-1a17-4335-ab2e-28cbf23e2285': ['9I39boHZYjI_65'],\n",
       " 'a870c5c9-2e42-42fc-ab55-32cbb0c677e2': ['Dxn3JQ5thWE_32'],\n",
       " 'f1673d42-f40e-4786-9a96-7ded39c03669': ['27KjD2jbxj4_37'],\n",
       " '5298ae16-72de-44cc-babb-784abdd96571': ['xHD7FWbZy14_62'],\n",
       " '5b960420-c341-4ba3-8ff5-58411e4a78b7': ['LCHPSo79rB4_15'],\n",
       " 'b74601c8-cec1-41d5-b39f-ec0e8e3009fa': ['rKByaM5asU8_76'],\n",
       " 'a71cae9c-6156-4aab-86dd-db7ea64971a9': ['dVO-7rchstw_105'],\n",
       " '5e416c9b-27f6-492c-a1fd-3fe778720144': ['qJpwEFTh1y0_48'],\n",
       " '93094e36-1fcf-403a-9fa0-1c5065df8b3c': ['p5A6Q1GHw1s_48'],\n",
       " '89da6483-868e-4035-98d0-467b41b21a84': ['_ryxuehnp8k_29'],\n",
       " '5e581e13-414e-4027-857c-f1853da023c9': ['HEQq3Dj0Stw_2'],\n",
       " 'ca7aa393-7b18-4bf4-aaa5-f2e60326452e': ['V2K4VqkfRaM_26'],\n",
       " 'd3a4fed0-d68d-4ad1-af2a-362eaef6bc36': ['eXEnSX_aRRE_154'],\n",
       " '5d0dc235-ca76-4d59-a444-fdeaa7d4f410': ['Or7CFDgfEYI_67'],\n",
       " 'a1ea128b-7f48-484a-9c75-b7f3f6d836fa': ['IQefdkl8PfY_10'],\n",
       " '44681419-82a2-4edf-b1e5-3463a4cb211f': ['SuZ8lEHtDI8_35'],\n",
       " 'e648d2b4-e776-4ece-b451-4dd816f86fc4': ['l1BULYFf8qo_160'],\n",
       " '37b77d55-cf70-4c24-a637-ac4dbaedec70': ['9I39boHZYjI_140'],\n",
       " '5f71d6ba-ea08-4a92-9a2e-c1f25b3e0c65': ['27KjD2jbxj4_78'],\n",
       " '9f5c733a-35b0-484e-a85e-f0682ab9171f': ['qRKm2ZIGnU4_83'],\n",
       " 'e58dc52d-6c22-45db-a47e-d90412b02d69': ['TVG8EebEt_M_41'],\n",
       " 'ceb81bfa-d79d-480e-b148-797a39f8fedf': ['BO6BSxr8WSo_71'],\n",
       " '67e56ff8-54eb-4bcc-9589-327509ad411a': ['Gxmq9rWggqw_112'],\n",
       " 'bd83b836-86ab-4500-8300-547f8f9840e4': ['z1fXr4ORF54_8'],\n",
       " '35c7b972-201a-4dcd-8e1e-5e1092d201d1': ['-L7HR1ZjwP4_85'],\n",
       " '46a32797-0b38-4973-a351-b6d4a23b0004': ['yT98z1iTHnU_25'],\n",
       " '912e51fb-1807-4bd1-bc0b-f4ca0456a6ee': ['rfnzmOpVIx0_35'],\n",
       " '95d14edf-cf35-41c1-a4c6-92910512e561': ['qoJMh9NPTR4_6'],\n",
       " 'aba51c76-57c0-4342-b9d4-8ff10db37bbc': ['Zn4MWA1BESY_104'],\n",
       " '9a1f3d35-83ba-40e7-a164-84820f7f7432': ['9aRy7DZ0Ek4_74'],\n",
       " 'edcb9246-7d5d-40e5-a526-ee69f51355eb': ['IQefdkl8PfY_16'],\n",
       " 'b58df132-a20d-4b7b-9689-3958964963aa': ['W4CAVj6IWlA_43'],\n",
       " '96ed17a4-4652-4b4c-ae31-1f6aa5b59bf3': ['qRKm2ZIGnU4_12'],\n",
       " '33ece920-0b16-4a1f-9406-f7fc951d2f01': ['pSvcpzqBL2A_34'],\n",
       " '6671b36d-bb7f-4935-a308-c235d9c22a3d': ['T4Ry71B5Q1s_75'],\n",
       " 'bbd97646-c830-4c46-9acc-25daad5067ce': ['_J49oG5MnN4_18'],\n",
       " 'b8150276-7085-4288-b5fd-23118f538924': ['0ytRBkE7K0o_3'],\n",
       " 'b58a57e9-a051-4779-8e90-c841ca0b9a11': ['2R_BKlb_Y8k_8'],\n",
       " 'ced7744b-9304-4796-9de0-2f3b474cf11f': ['eIW5Ycgdjyo_67'],\n",
       " '4a841827-bcc3-48ff-90f5-7f681bbeacee': ['RIRHq3d7Uuo_38'],\n",
       " 'c8df4507-391a-4314-8a27-9e909a8d4c60': ['V2K4VqkfRaM_35'],\n",
       " 'c77bd896-7222-4840-83f6-321c0a20d326': ['xftOwi3Hstg_60'],\n",
       " 'dd5ca96e-377b-4422-bf77-533d817a7f36': ['mokyNBWZ8wg_4'],\n",
       " 'd8a1b26d-daf0-4fa0-887f-3b5747cb06e5': ['Bp4w_Prs1Q8_9'],\n",
       " '487efb90-b2fb-4300-89a7-ae90f4d827c9': ['Amt5qR3BP98_4'],\n",
       " '8dc4678d-6f31-40b0-8d12-eff2b14ed9c9': ['_J49oG5MnN4_7'],\n",
       " '55f48d50-d83c-4d89-9e10-6cee676f30c5': ['TanQ2mhxAcs_40'],\n",
       " '6b4d4469-f25e-4f3d-a3dd-f22a52fb9c03': ['WhLdpjZjUrw_170'],\n",
       " '30ac73c0-5570-48ea-aac4-9ad10d831abc': ['l1BULYFf8qo_207'],\n",
       " 'e3462cc6-16f6-408b-a481-054c5afc944f': ['dVO-7rchstw_80'],\n",
       " 'd3cb15b1-7574-4ee0-b3f6-69ac9c604d3d': ['Dzlg17y0IMM_124'],\n",
       " '3c35edb5-f7fa-4f84-8261-3c2a25cc3ca6': ['UMmOQCf98-k_24'],\n",
       " 'c3780dd7-e9f6-4288-aed1-36544f05e679': ['zvuIuSjNuac_8'],\n",
       " '1975edf5-7be8-4ba2-bff1-783c6f8f05fd': ['-L7HR1ZjwP4_78'],\n",
       " '02d9d281-88f4-49a8-a842-d1a7c92f4fad': ['NxtUBGtLq3k_64'],\n",
       " 'ed915488-fb34-4749-9e72-7e880210c02f': ['WhLdpjZjUrw_126'],\n",
       " '05cf4483-7198-462d-b164-7d67e2dd8f16': ['IQefdkl8PfY_47'],\n",
       " '87369066-cdd3-4986-8e52-09039d169808': ['-L7HR1ZjwP4_46'],\n",
       " '4a57c585-cfd3-4778-bc22-deb1b7ea89c0': ['2R_BKlb_Y8k_3'],\n",
       " 'bea5378c-50a8-46f3-a56b-2788b0d7eea8': ['HGY1vf5H1z4_4'],\n",
       " '6f32e992-d386-4908-9f56-564ce08a0eb8': ['wHNviTRMfa8_62'],\n",
       " '689cbd02-bd4f-4896-ae6c-cd4f26479d63': ['V2K4VqkfRaM_45'],\n",
       " '15dd0b66-9730-4923-a84b-05ccade85304': ['KCIBQigXR8I_16'],\n",
       " '136dddb9-5729-44d6-92dc-25121bdc398d': ['PTOVAEmv5ks_51'],\n",
       " '30297302-9b67-491b-bcd6-b70aa643cffa': ['Zn4MWA1BESY_50'],\n",
       " '552019b2-2e22-499e-af50-f474be090626': ['SuZ8lEHtDI8_19'],\n",
       " '2f39cdf7-4454-4e01-825a-04ac97e1e649': ['TXNFLgl3Y1c_55'],\n",
       " '96c7d9b7-343f-45d7-8888-cd6c4bbd5073': ['X9Vy2RT6FD0_86'],\n",
       " 'ae269cc8-5c60-44a3-a04e-ebba399ef005': ['Ec4N-uV2EB4_0'],\n",
       " 'eadb02cc-0b25-4450-83af-be7ed5f7322f': ['ItQ-lsSMQgQ_55'],\n",
       " 'd53dc53a-9329-4126-a3a5-43f26a4d31b5': ['xHD7FWbZy14_16'],\n",
       " 'fdfda4a9-3479-4162-9528-ffa0941ef914': ['Gw1I7fqmxmA_24'],\n",
       " '5602ba10-28a7-485b-b8e8-72a1907b170d': ['Ec4N-uV2EB4_17'],\n",
       " '058a411d-a871-4d06-9730-1abc7dd6fd9e': ['UD40iEzGvaQ_24'],\n",
       " '18e7f48b-1a2f-4b93-a6c7-58315c7f8145': ['7O_yR9WVSFw_21'],\n",
       " '9f0e655b-143d-4c02-b8ef-5d9e74159252': ['7MzRwisf3ps_25'],\n",
       " '0766a96a-46da-4c61-8259-b358854378fc': ['Dxn3JQ5thWE_21'],\n",
       " '9853d298-a90a-4ad1-b6a3-eaf91b910a2f': ['m9BuJVHWOO4_11'],\n",
       " '692d49c8-6cf4-46f2-ae85-50e0f2277bab': ['02RJ83vS96s_3'],\n",
       " '70c7ca2a-3214-408a-b406-0c7c8e11ce64': ['uSgY_PxL_Zo_56'],\n",
       " '86fbad96-71d3-4a47-b504-19be36193d36': ['HMJNjLKgJpM_65'],\n",
       " '69b38871-4fb6-4765-8dff-fadbe61c018e': ['zvuIuSjNuac_45'],\n",
       " '3e2c0fcf-cd96-4cf8-a53d-46fbd5959632': ['l4fLax7S2Q0_71'],\n",
       " '7c7571cd-e1f8-4b1f-91d5-2e1ba2983f7f': ['ugT5VkFl4Xo_34'],\n",
       " '4dfa79e0-078f-4a98-a233-d37b7f8ff9f0': ['eoZlLYbHjZI_33'],\n",
       " '44c9db9c-aa09-49ae-b82b-76ee31051100': ['Se91Pn3xxSs_46'],\n",
       " 'd6026a0c-9fb3-4d9a-84d7-3871dfb096b0': ['xvB1my7Wm-A_28'],\n",
       " '099e6c43-d3d6-4018-9ef5-dc71e51de34b': ['14eG8uoQ6cQ_22'],\n",
       " '57bc9691-20c0-4616-853f-2edbffda13e3': ['pmWmGVFGrN0_56']}"
      ]
     },
     "execution_count": 4,
     "metadata": {},
     "output_type": "execute_result"
    }
   ],
   "source": [
    "golden_dataset.relevant_docs"
   ]
  },
  {
   "cell_type": "markdown",
   "id": "2dbc77d4-07d3-4e3f-8330-76aefea948c6",
   "metadata": {},
   "source": [
    "#### Once your golden dataset is loaded in memory, you can view its content using dot notation like so: `golden_dataset.queries`, `golden_dataset.corpus`, `golden_dataset.relevant_docs`"
   ]
  },
  {
   "cell_type": "markdown",
   "id": "946e13a3-9350-40d9-8bfe-0cd37f2ade2f",
   "metadata": {},
   "source": [
    "# Project 1: Retrieval Evaluation"
   ]
  },
  {
   "cell_type": "code",
   "execution_count": 5,
   "id": "255bdabd-770e-4b12-8bd8-54e5cdc64f77",
   "metadata": {},
   "outputs": [],
   "source": [
    "def retrieval_evaluation(dataset: EmbeddingQAFinetuneDataset, \n",
    "                         class_name: str, \n",
    "                         retriever: WeaviateClient,\n",
    "                         retrieve_limit: int=5,\n",
    "                         chunk_size: int=256,\n",
    "                         hnsw_config_keys: List[str]=['maxConnections', 'efConstruction', 'ef'],\n",
    "                         display_properties: List[str]=['doc_id', 'guest', 'content'],\n",
    "                         dir_outpath: str='./eval_results',\n",
    "                         include_miss_info: bool=False,\n",
    "                         user_def_params: Dict[str,Any]=None\n",
    "                         ) -> Dict[str, str|int|float]:\n",
    "    '''\n",
    "    Given a dataset and a retriever evaluate the performance of the retriever. Returns a dict of kw and vector\n",
    "    hit rates and mrr scores. If inlude_miss_info is True, will also return a list of kw and vector responses \n",
    "    and their associated queries that did not return a hit, for deeper analysis. Text file with results output\n",
    "    is automatically saved in the dir_outpath directory.\n",
    "\n",
    "    Args:\n",
    "    -----\n",
    "    dataset: EmbeddingQAFinetuneDataset\n",
    "        Dataset to be used for evaluation\n",
    "    class_name: str\n",
    "        Name of Class on Weaviate host to be used for retrieval\n",
    "    retriever: WeaviateClient\n",
    "        WeaviateClient object to be used for retrieval \n",
    "    retrieve_limit: int=5\n",
    "        Number of documents to retrieve from Weaviate host\n",
    "    chunk_size: int=256\n",
    "        Number of tokens used to chunk text. This value is purely for results \n",
    "        recording purposes and does not affect results. \n",
    "    display_properties: List[str]=['doc_id', 'content']\n",
    "        List of properties to be returned from Weaviate host for display in response\n",
    "    dir_outpath: str='./eval_results'\n",
    "        Directory path for saving results.  Directory will be created if it does not\n",
    "        already exist. \n",
    "    include_miss_info: bool=False\n",
    "        Option to include queries and their associated kw and vector response values\n",
    "        for queries that are \"total misses\"\n",
    "    user_def_params : dict=None\n",
    "        Option for user to pass in a dictionary of user-defined parameters and their values.\n",
    "    '''\n",
    "\n",
    "    results_dict = {'n':retrieve_limit, \n",
    "                    'Retriever': retriever.model_name_or_path, \n",
    "                    'chunk_size': chunk_size,\n",
    "                    'kw_hit_rate': 0,\n",
    "                    'kw_mrr': 0,\n",
    "                    'vector_hit_rate': 0,\n",
    "                    'vector_mrr': 0,\n",
    "                    'total_misses': 0,\n",
    "                    'total_questions':0\n",
    "                    }\n",
    "    #add hnsw configs and user defined params (if any)\n",
    "    results_dict = add_params(client, class_name, results_dict, user_def_params, hnsw_config_keys)\n",
    "    \n",
    "    start = time.perf_counter()\n",
    "    miss_info = []\n",
    "    for query_id, q in tqdm(dataset.queries.items(), 'Queries'):\n",
    "        results_dict['total_questions'] += 1\n",
    "        hit = False\n",
    "        #make Keyword, Vector, and Hybrid calls to Weaviate host\n",
    "        try:\n",
    "            kw_response = retriever.keyword_search(request=q, class_name=class_name, limit=retrieve_limit, display_properties=display_properties)\n",
    "            vector_response = retriever.vector_search(request=q, class_name=class_name, limit=retrieve_limit, display_properties=display_properties)\n",
    "            \n",
    "            #collect doc_ids and position of doc_ids to check for document matches\n",
    "            kw_doc_ids = {result['doc_id']:i for i, result in enumerate(kw_response, 1)}\n",
    "            vector_doc_ids = {result['doc_id']:i for i, result in enumerate(vector_response, 1)}\n",
    "            \n",
    "            #extract doc_id for scoring purposes\n",
    "            doc_id = dataset.relevant_docs[query_id][0]\n",
    "     \n",
    "            #increment hit_rate counters and mrr scores\n",
    "            if doc_id in kw_doc_ids:\n",
    "                results_dict['kw_hit_rate'] += 1\n",
    "                results_dict['kw_mrr'] += 1/kw_doc_ids[doc_id]\n",
    "                hit = True\n",
    "            if doc_id in vector_doc_ids:\n",
    "                results_dict['vector_hit_rate'] += 1\n",
    "                results_dict['vector_mrr'] += 1/vector_doc_ids[doc_id]\n",
    "                hit = True\n",
    "                \n",
    "            # if no hits, let's capture that\n",
    "            if not hit:\n",
    "                results_dict['total_misses'] += 1\n",
    "                miss_info.append({'query': q, 'kw_response': kw_response, 'vector_response': vector_response})\n",
    "        except Exception as e:\n",
    "            print(e)\n",
    "            continue\n",
    "    \n",
    "\n",
    "    #use raw counts to calculate final scores\n",
    "    calc_hit_rate_scores(results_dict)\n",
    "    calc_mrr_scores(results_dict)\n",
    "    \n",
    "    end = time.perf_counter() - start\n",
    "    print(f'Total Processing Time: {round(end/60, 2)} minutes')\n",
    "    record_results(results_dict, chunk_size, dir_outpath=dir_outpath, as_text=True)\n",
    "    \n",
    "    if include_miss_info:\n",
    "        return results_dict, miss_info\n",
    "    return results_dict"
   ]
  },
  {
   "cell_type": "markdown",
   "id": "1cd5ed71-d150-4312-9d41-0b43ae43bd72",
   "metadata": {},
   "source": [
    "### Run evaluation over golden dataset"
   ]
  },
  {
   "cell_type": "code",
   "execution_count": 6,
   "id": "d42568cd-d0e3-4640-8865-37b6dff80307",
   "metadata": {},
   "outputs": [
    {
     "data": {
      "application/vnd.jupyter.widget-view+json": {
       "model_id": "ac1d18fcd8ae4e08974bf1c1b64c320b",
       "version_major": 2,
       "version_minor": 0
      },
      "text/plain": [
       "Queries:   0%|          | 0/100 [00:00<?, ?it/s]"
      ]
     },
     "metadata": {},
     "output_type": "display_data"
    },
    {
     "data": {
      "text/html": [
       "<pre style=\"white-space:pre;overflow-x:auto;line-height:normal;font-family:Menlo,'DejaVu Sans Mono',consolas,'Courier New',monospace\">Total Processing Time: <span style=\"color: #008080; text-decoration-color: #008080; font-weight: bold\">0.54</span> minutes\n",
       "</pre>\n"
      ],
      "text/plain": [
       "Total Processing Time: \u001b[1;36m0.54\u001b[0m minutes\n"
      ]
     },
     "metadata": {},
     "output_type": "display_data"
    }
   ],
   "source": [
    "#################\n",
    "##  START CODE ##\n",
    "#################\n",
    "results = retrieval_evaluation(golden_dataset,\n",
    "                               class_name=class_name,\n",
    "                               retriever = client)"
   ]
  },
  {
   "cell_type": "code",
   "execution_count": 7,
   "id": "bfe8b284",
   "metadata": {},
   "outputs": [
    {
     "data": {
      "text/plain": [
       "{'n': 5,\n",
       " 'Retriever': 'sentence-transformers/all-MiniLM-L6-v2',\n",
       " 'chunk_size': 256,\n",
       " 'kw_hit_rate': 0.72,\n",
       " 'kw_mrr': 0.59,\n",
       " 'vector_hit_rate': 0.37,\n",
       " 'vector_mrr': 0.29,\n",
       " 'total_misses': 25,\n",
       " 'total_questions': 100,\n",
       " 'maxConnections': 32,\n",
       " 'efConstruction': 128,\n",
       " 'ef': 64}"
      ]
     },
     "execution_count": 7,
     "metadata": {},
     "output_type": "execute_result"
    }
   ],
   "source": [
    "results"
   ]
  },
  {
   "cell_type": "markdown",
   "id": "50d20ebe-be43-43fc-b43c-1657ae9569f9",
   "metadata": {},
   "source": [
    "# Conclusion\n",
    "***\n",
    "\n",
    "We now have a way of measuring the performance of our system.  This will allow you to make tweaks/changes to the system and then be able to objectively tell whether or not the tweak/change improved or degraded its performance.  Here are a few things to consider going forward:  \n",
    "\n",
    "- Keep in mind what the ulitmate goal of the system is that you are building.  For this course, we are trying to retrieve the most relevant documents as possible that will effectively address a user query, assuming the information is found within the corpus.  This means that we don't need pages and pages of relevant results, we actually only need the top 3-5, just enough to allow our Reader (the OpenAI LLM) to answer the user query.  This is an important point to be thinking about as you are making changes to the retrieval system.\n",
    "- Feel free to set the `include_miss_info` param to `True`.  Doing so will return a list of both the keyword and vector responses that did not contain the relevant `doc_id` (a \"total_miss\" means the `doc_id` was not present in either the `kw_doc_ids` or the `vector_doc_ids`).  Take a look at the style of the queries being asked and compare them with the returned responses.  Why are those responses being returned?  Are they close to the intent of the query?\n",
    "- Last but not least, you are now free to make changes to your system to improve the `hit_rate` and `mrr` scores.  If it were me, I'd start with switching out to a more performant [embedding model](https://huggingface.co/spaces/mteb/leaderboard).  There will be more opportunities to pick up some low hanging fruit, but we'll have to wait until the following week when hybrid search and Rerankers are introduced.  Whatever you do though, don't change params for the `SentenceSplitter` that you use for chunking the corpus.  Due to the way the golden dataset is derived, it's unfortunately dependent on those original `SentenceSplitter` settings remaining the same across evaluations. That is, of course, unless you want to build out your own golden dataset...."
   ]
  },
  {
   "cell_type": "markdown",
   "id": "a7f49f46-a414-4cce-9e33-812be531e46d",
   "metadata": {},
   "source": [
    "# **OPTIONAL but encouraged... --> Fine-Tuning an Embedding Model\n",
    "***\n",
    "#### This exercise won't cost you anything except some time...\n",
    "\n",
    "#### It is recommended to run this specific section either locally on your machine or on Google Colab. As a proxy, it will take less than 10 minutes to run in a Macbook Air M1.\n",
    "\n",
    "Aside from switching out your emebdding model to improve your retrieval results, you could also try fine tuning your embedding model (or better yet, switch out your model and then fine tune the new one...👊).  For the longest time, the problem with fine-tuning sentence embedding models was the lack of access to high quality training data.  Generative LLMs can save you days/weeks of time, depending on how large of a dataset you want to create, by automating the process of generating high quality query/context pairs.  In this section we'll go over the step-by-step process of fine-tuning our `all-MiniLM-L6-v2` embedding model from a pre-generated training dataset consisting of only 300 question-context pairs, and then comparing it's retrieval results to our baseline retrieval scores.  I highly encourage trying this method out, I saw a 10+ point jump in `vector_hit_rate` after fine-tuning the baseline model.\n",
    "\n",
    "### Fine-tune Walkthrough\n",
    "\n",
    "1. Get baseline retrieval scores (vector Hit Rate, MRR, and total misses) using out-of-the-box baseline model.  You won't know objectively if fine-tuning had any effect if you don't measure the baseline results first.  I know this goes without saying it, but practitioners sometimes want to jump straight into model improvement without first considering their starting point.\n",
    "2. Collect a training and validation dataset.  This step has already been completed for you, courtesy of `gpt-3.5-turbo`.  LlamaIndex has a great out-of-the-box solution for generating query/context embedding pairs, but it isn't exactly plug and play, so I had to rewrite the function to achieve comptability for our course.  The training dataset consists of queries generated by the LLM that can be answered from the associated context (text chunk).  These pairs were generated using a prompt specifically written for the Impact Theory corpus so the training and validation data (for the most part) are high quality and contextually relevant. \n",
    "3. Instantiate a `SentenceTransformersFinetuneEngine` Class written by LlamaIndex which does a great job of abstracting away most of the details invovled in fine-tuning a Sentence Transformer model.\n",
    "4. Fit the model and set a path where the new model will reside.  I creaed a `models/` directory in the course repo, and included the directory in the `.gitignore` file so that models aren't being pushed with every commit.\n",
    "5. Create a new dataset (as you learned in Notebook 1) but this time create the embeddings using the new fine-tuned model.\n",
    "6. Create a new index on Weaviate using the new dataset you just created.\n",
    "7. Run the `retrieval_evaluation` function again, but this time instantiate your Weaviate client with the new fine-tuned model, but hold all other parameters constant (i.e. don't change any other parameter from the baseline run).\n",
    "8. Compare the fine-tuned retrieval results to the baseline results 🥳"
   ]
  },
  {
   "cell_type": "markdown",
   "id": "65048057-c7b1-4838-88d1-8717f2541fc6",
   "metadata": {},
   "source": [
    "### Import Training + Valid datasets"
   ]
  },
  {
   "cell_type": "code",
   "execution_count": 1,
   "id": "73235f35-982c-446b-bc2c-7decc6cb7145",
   "metadata": {},
   "outputs": [],
   "source": [
    "training_path = './data/training_data_300.json'\n",
    "valid_path = './data/validation_data_100.json'"
   ]
  },
  {
   "cell_type": "code",
   "execution_count": 7,
   "id": "62c71fbb-95f4-40bd-a76c-f136629e6acf",
   "metadata": {},
   "outputs": [
    {
     "data": {
      "text/html": [
       "<pre style=\"white-space:pre;overflow-x:auto;line-height:normal;font-family:Menlo,'DejaVu Sans Mono',consolas,'Courier New',monospace\"># Training Samples: <span style=\"color: #008080; text-decoration-color: #008080; font-weight: bold\">300</span>\n",
       "# Validation Samples: <span style=\"color: #008080; text-decoration-color: #008080; font-weight: bold\">100</span>\n",
       "</pre>\n"
      ],
      "text/plain": [
       "# Training Samples: \u001b[1;36m300\u001b[0m\n",
       "# Validation Samples: \u001b[1;36m100\u001b[0m\n"
      ]
     },
     "metadata": {},
     "output_type": "display_data"
    }
   ],
   "source": [
    "training_set = EmbeddingQAFinetuneDataset.from_json(training_path)\n",
    "valid_set = EmbeddingQAFinetuneDataset.from_json(valid_path)\n",
    "num_training_examples = len(training_set.queries)\n",
    "num_valid_examples = len(valid_set.queries)\n",
    "print(f'# Training Samples: {num_training_examples}\\n# Validation Samples: {num_valid_examples}')"
   ]
  },
  {
   "cell_type": "markdown",
   "id": "7407014d-ace1-4ab3-b62f-92dd0fad0246",
   "metadata": {},
   "source": [
    "### Wrangle Model output path"
   ]
  },
  {
   "cell_type": "code",
   "execution_count": 11,
   "id": "7b9c2eb1-f487-44be-894e-b5bf105c702d",
   "metadata": {},
   "outputs": [],
   "source": [
    "#always a good idea to name your fine-tuned so that you can easily identify it,\n",
    "#especially if you plan on doing multiple training runs with different params\n",
    "#also probably a good idea to include the # of training samples you are using in the name\n",
    "\n",
    "model_id = client.model_name_or_path\n",
    "model_ext = model_id.split('/')[1]\n",
    "models_dir = './models'\n",
    "if not os.path.exists('./models'):\n",
    "    os.makedirs('./models') \n",
    "else:\n",
    "    print(f'{models_dir} already exists')\n",
    "ft_model_name = f'finetuned-{model_ext}-{num_training_examples}'\n",
    "model_outpath = os.path.join(models_dir, ft_model_name)\n",
    "\n",
    "print(f'Model ID: {model_id}')\n",
    "print(f'Model Outpath: {model_outpath}')"
   ]
  },
  {
   "cell_type": "markdown",
   "id": "ce4f8049-27d8-49fd-be18-360d3d8c6acb",
   "metadata": {},
   "source": [
    "### Instantiate your Fine-tune engine"
   ]
  },
  {
   "cell_type": "code",
   "execution_count": 13,
   "id": "f118bf22-9c0d-47ad-aa83-e7f61ce07a7e",
   "metadata": {},
   "outputs": [],
   "source": [
    "from llama_index.finetuning import SentenceTransformersFinetuneEngine\n",
    "\n",
    "finetune_engine = SentenceTransformersFinetuneEngine(\n",
    "    training_set,\n",
    "    batch_size=32,\n",
    "    model_id=model_id,\n",
    "    model_output_path=model_outpath,\n",
    "    val_dataset=valid_set,\n",
    "    epochs=10\n",
    ")"
   ]
  },
  {
   "cell_type": "markdown",
   "id": "d2aaa840-de9e-4e17-8a9d-7c412cd873bb",
   "metadata": {},
   "source": [
    "### Fit the embedding model"
   ]
  },
  {
   "cell_type": "code",
   "execution_count": null,
   "id": "5068ae60-3a73-4170-9310-4c74f9cd9563",
   "metadata": {},
   "outputs": [],
   "source": [
    "# finetune_engine.finetune()"
   ]
  },
  {
   "cell_type": "markdown",
   "id": "e08e8aad-5a91-4c25-ab85-f1af821b250c",
   "metadata": {},
   "source": [
    "The `finetune` method will automatically generate the model directory using the `model_output_path` that you define.  Inside the directory will be a copy of the model itself (`pytorch_model.bin`) along with all the other files it needs.  Also in that folder, assuming you provide a `val_dataset` will be an evaluation report in the `eval` directory.  The evaluation report contains several IR metrics that may or may not be useful to you, but it does allow you to compare score improvements with each training epoch.  The new fine-tuned model is loaded through the `SentenceTransformer` class just like any other HuggingFace repo model. "
   ]
  }
 ],
 "metadata": {
  "kernelspec": {
   "display_name": "vectorsearch",
   "language": "python",
   "name": "python3"
  },
  "language_info": {
   "codemirror_mode": {
    "name": "ipython",
    "version": 3
   },
   "file_extension": ".py",
   "mimetype": "text/x-python",
   "name": "python",
   "nbconvert_exporter": "python",
   "pygments_lexer": "ipython3",
   "version": "3.10.13"
  }
 },
 "nbformat": 4,
 "nbformat_minor": 5
}
